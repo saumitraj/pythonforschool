{
 "cells": [
  {
   "cell_type": "code",
   "execution_count": 375,
   "id": "7ab6f016-1584-4754-b13d-e7ad740522e2",
   "metadata": {},
   "outputs": [],
   "source": [
    "import numpy as np\n",
    "import matplotlib.pyplot as plt\n",
    "import pandas as pd\n",
    "from sklearn.model_selection import train_test_split # Import train_test_split function\n",
    "from sklearn.ensemble import RandomForestClassifier\n",
    "from sklearn.tree import DecisionTreeClassifier\n",
    "from sklearn.ensemble import RandomForestClassifier"
   ]
  },
  {
   "cell_type": "code",
   "execution_count": 377,
   "id": "0d2774cd-c61c-49cf-a1aa-a0a2fc5ce223",
   "metadata": {},
   "outputs": [],
   "source": [
    "dataset = pd.read_csv('Position_Salaries.csv')\n",
    "X = dataset.iloc[:, 1:-1].values\n",
    "y = dataset.iloc[:, -1].values"
   ]
  },
  {
   "cell_type": "code",
   "execution_count": 379,
   "id": "c6af9e5d-5772-4a4f-9edb-061bf1283114",
   "metadata": {},
   "outputs": [],
   "source": [
    "col_names = [ 'glucose', 'bp', 'skin', 'insulin', 'bmi', 'pedigree', 'age', 'label']\n",
    "pima = pd.read_csv(\"diabetes_2.csv\", header=0, names=col_names)\n",
    "\n",
    "feature_cols = [ 'insulin', 'bmi', 'age','glucose','bp','pedigree']\n",
    "col_names = [ 'glucose', 'bp', 'skin', 'insulin', 'bmi', 'pedigree', 'age', 'label']\n",
    "\n",
    "X = pima[feature_cols] # Features\n",
    "y = pima.label # Target variable\n",
    "X_train, X_test, y_train, y_test = train_test_split(X, y, test_size=0.3, random_state=1) # 70% training and 30% test\n",
    "#regressor = DecisionTreeRegressor(n_estimators = 100, random_state = 0)"
   ]
  },
  {
   "cell_type": "code",
   "execution_count": 381,
   "id": "f7e927bb-a6ce-4390-bb6f-799906863a4e",
   "metadata": {},
   "outputs": [
    {
     "name": "stdout",
     "output_type": "stream",
     "text": [
      "Accuracy: 0.6753246753246753\n"
     ]
    }
   ],
   "source": [
    "regressor = DecisionTreeClassifier(random_state = 0)\n",
    "regressor.fit(X_train, y_train)\n",
    "y_pred = regressor.predict(X_test)\n",
    "print(\"Accuracy:\",metrics.accuracy_score(y_test, y_pred))"
   ]
  },
  {
   "cell_type": "code",
   "execution_count": 405,
   "id": "0eed4b31-6c6c-4516-8f97-18bbdb93e06a",
   "metadata": {},
   "outputs": [
    {
     "name": "stdout",
     "output_type": "stream",
     "text": [
      "Accuracy: 0.7965367965367965\n"
     ]
    }
   ],
   "source": [
    "regressor = RandomForestClassifier( n_estimators = 1200, random_state = 2000, criterion = \"entropy\")\n",
    "regressor.fit(X_train, y_train)\n",
    "y_pred = regressor.predict(X_test)\n",
    "print(\"Accuracy:\",metrics.accuracy_score(y_test, y_pred))"
   ]
  },
  {
   "cell_type": "code",
   "execution_count": null,
   "id": "bf78b59c-4531-42cd-a47d-112a39d042f2",
   "metadata": {},
   "outputs": [],
   "source": []
  },
  {
   "cell_type": "code",
   "execution_count": null,
   "id": "916671b9-2249-4bfa-a66f-8a38b03df25c",
   "metadata": {},
   "outputs": [],
   "source": []
  },
  {
   "cell_type": "code",
   "execution_count": null,
   "id": "278fabe8-aef1-4a57-89e7-8de5c0749976",
   "metadata": {},
   "outputs": [],
   "source": []
  },
  {
   "cell_type": "code",
   "execution_count": null,
   "id": "0ef47728-630a-4e32-ae33-d9e024c52e0f",
   "metadata": {},
   "outputs": [],
   "source": [
    "importances = regressor.feature_importances_\n",
    "feature_names = X.columns"
   ]
  },
  {
   "cell_type": "code",
   "execution_count": null,
   "id": "e1ec82da-8b64-4734-8f38-c20a55c85ba4",
   "metadata": {},
   "outputs": [],
   "source": [
    "importances = regressor.feature_importances_\n",
    "feature_names = X.columns\n",
    "feature_importance_df = pd.DataFrame({'Feature': feature_names, 'Importance': importances})\n",
    "\n",
    "# Rank features by importance\n",
    "feature_importance_df = feature_importance_df.sort_values(by='Importance', ascending=False)\n",
    "print(feature_importance_df)\n",
    "\n",
    "# Select top N features (example selecting top 10 features)\n",
    "top_features = feature_importance_df['Feature'][:2].values\n",
    "X_train_selected = X_train[top_features]\n",
    "X_test_selected = X_test[top_features]"
   ]
  },
  {
   "cell_type": "code",
   "execution_count": null,
   "id": "c5b7628f-ac77-466d-9d15-feb15bd53087",
   "metadata": {},
   "outputs": [],
   "source": [
    "s_regressor = RandomForestClassifier( n_estimators = 100, random_state = 0)\n",
    "s_regressor.fit(X_train_selected, y_train)"
   ]
  },
  {
   "cell_type": "code",
   "execution_count": null,
   "id": "dcfd249f-1071-453e-a8ea-393c2f98b90c",
   "metadata": {},
   "outputs": [],
   "source": [
    "y_pred_selected = s_regressor.predict(X_test_selected)\n",
    "print(\"Accuracy without selection:\",metrics.accuracy_score(y_test, y_pred))\n",
    "print(\"Accuracy after selection:\",metrics.accuracy_score(y_test, y_pred_selected))"
   ]
  },
  {
   "cell_type": "code",
   "execution_count": null,
   "id": "490fe6c0-ae49-4c60-97ba-3b0298c91280",
   "metadata": {},
   "outputs": [],
   "source": [
    "regressor = RandomForestClassifier( n_estimators = 1000, random_state = 42, criterion = \"entropy\", min_samples_leaf = 4 )\n",
    "regressor.fit(X_train, y_train)\n",
    "y_pred = regressor.predict(X_test)\n",
    "print(\"Accuracy:\",metrics.accuracy_score(y_test, y_pred))"
   ]
  },
  {
   "cell_type": "code",
   "execution_count": null,
   "id": "190d543d-a781-4bd6-a9f5-ef8c9d6e4097",
   "metadata": {},
   "outputs": [],
   "source": []
  },
  {
   "cell_type": "code",
   "execution_count": null,
   "id": "925ad8bb-ab51-4f86-80d3-ed72406a43ab",
   "metadata": {},
   "outputs": [],
   "source": []
  }
 ],
 "metadata": {
  "kernelspec": {
   "display_name": "Python 3 (ipykernel)",
   "language": "python",
   "name": "python3"
  },
  "language_info": {
   "codemirror_mode": {
    "name": "ipython",
    "version": 3
   },
   "file_extension": ".py",
   "mimetype": "text/x-python",
   "name": "python",
   "nbconvert_exporter": "python",
   "pygments_lexer": "ipython3",
   "version": "3.11.7"
  }
 },
 "nbformat": 4,
 "nbformat_minor": 5
}
