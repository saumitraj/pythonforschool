{
 "cells": [
  {
   "cell_type": "code",
   "execution_count": null,
   "id": "89e2df73-2fe8-450e-9928-8fa3772f79cf",
   "metadata": {},
   "outputs": [],
   "source": [
    "!pip install pandas\n"
   ]
  },
  {
   "cell_type": "code",
   "execution_count": 114,
   "id": "8d04f1df-403b-4b07-8fdd-436e859a53ec",
   "metadata": {},
   "outputs": [],
   "source": [
    "import pandas as pd"
   ]
  },
  {
   "cell_type": "code",
   "execution_count": null,
   "id": "3aefaf44-4f0f-4731-816e-b610b998df85",
   "metadata": {},
   "outputs": [],
   "source": [
    "import matplotlib as plt\n",
    "import numpy as np"
   ]
  },
  {
   "cell_type": "code",
   "execution_count": null,
   "id": "ebf4f09a-c41c-42df-98cb-8e2de8c90579",
   "metadata": {},
   "outputs": [],
   "source": [
    "#new pandas dataframe\n",
    "df = pd.DataFrame(\n",
    "    {\n",
    "        \"location\":pd.Categorical(['Kothrud','Aundh','Prabhat Road','Camp']),\n",
    "        \"Q1\":[30,40,25,30],\n",
    "        \"Q2\":[35,45,20,35],\n",
    "        \"Q3\":[20,20,20,20],\n",
    "        \"Q4\":[40,40,35,30],\n",
    "        \n",
    "    }\n",
    ")"
   ]
  },
  {
   "cell_type": "code",
   "execution_count": 115,
   "id": "c4cc044b-16bf-4c50-b7c4-1711a374ed88",
   "metadata": {},
   "outputs": [
    {
     "data": {
      "text/plain": [
       "43"
      ]
     },
     "execution_count": 115,
     "metadata": {},
     "output_type": "execute_result"
    }
   ],
   "source": []
  },
  {
   "cell_type": "code",
   "execution_count": 118,
   "id": "f833cbea-13c2-4776-be9b-925eeea8b306",
   "metadata": {},
   "outputs": [],
   "source": [
    "a = [1,2,3,4,5,6,7,8,9,10]"
   ]
  },
  {
   "cell_type": "markdown",
   "id": "f1f1cba7-727b-43a0-8161-e5a9dcf16f46",
   "metadata": {},
   "source": [
    "df2"
   ]
  },
  {
   "cell_type": "code",
   "execution_count": 126,
   "id": "0c96cfbe-56cb-42d9-a37e-28378960b521",
   "metadata": {},
   "outputs": [],
   "source": [
    "two_table = pd.DataFrame(a).rename(columns={ 0 : \"base\"})"
   ]
  },
  {
   "cell_type": "code",
   "execution_count": 124,
   "id": "fdee4182-aac2-4383-a8d9-62872ccef61f",
   "metadata": {},
   "outputs": [
    {
     "data": {
      "text/html": [
       "<div>\n",
       "<style scoped>\n",
       "    .dataframe tbody tr th:only-of-type {\n",
       "        vertical-align: middle;\n",
       "    }\n",
       "\n",
       "    .dataframe tbody tr th {\n",
       "        vertical-align: top;\n",
       "    }\n",
       "\n",
       "    .dataframe thead th {\n",
       "        text-align: right;\n",
       "    }\n",
       "</style>\n",
       "<table border=\"1\" class=\"dataframe\">\n",
       "  <thead>\n",
       "    <tr style=\"text-align: right;\">\n",
       "      <th></th>\n",
       "      <th>base</th>\n",
       "    </tr>\n",
       "  </thead>\n",
       "  <tbody>\n",
       "    <tr>\n",
       "      <th>0</th>\n",
       "      <td>1</td>\n",
       "    </tr>\n",
       "    <tr>\n",
       "      <th>1</th>\n",
       "      <td>2</td>\n",
       "    </tr>\n",
       "    <tr>\n",
       "      <th>2</th>\n",
       "      <td>3</td>\n",
       "    </tr>\n",
       "    <tr>\n",
       "      <th>3</th>\n",
       "      <td>4</td>\n",
       "    </tr>\n",
       "    <tr>\n",
       "      <th>4</th>\n",
       "      <td>5</td>\n",
       "    </tr>\n",
       "    <tr>\n",
       "      <th>5</th>\n",
       "      <td>6</td>\n",
       "    </tr>\n",
       "    <tr>\n",
       "      <th>6</th>\n",
       "      <td>7</td>\n",
       "    </tr>\n",
       "    <tr>\n",
       "      <th>7</th>\n",
       "      <td>8</td>\n",
       "    </tr>\n",
       "    <tr>\n",
       "      <th>8</th>\n",
       "      <td>9</td>\n",
       "    </tr>\n",
       "    <tr>\n",
       "      <th>9</th>\n",
       "      <td>10</td>\n",
       "    </tr>\n",
       "  </tbody>\n",
       "</table>\n",
       "</div>"
      ],
      "text/plain": [
       "   base\n",
       "0     1\n",
       "1     2\n",
       "2     3\n",
       "3     4\n",
       "4     5\n",
       "5     6\n",
       "6     7\n",
       "7     8\n",
       "8     9\n",
       "9    10"
      ]
     },
     "execution_count": 124,
     "metadata": {},
     "output_type": "execute_result"
    }
   ],
   "source": [
    "two_table.rename(columns={ 0 : \"base\"})"
   ]
  },
  {
   "cell_type": "code",
   "execution_count": 131,
   "id": "b0a2103b-ea64-49e2-9539-f842aae03940",
   "metadata": {},
   "outputs": [
    {
     "data": {
      "text/html": [
       "<div>\n",
       "<style scoped>\n",
       "    .dataframe tbody tr th:only-of-type {\n",
       "        vertical-align: middle;\n",
       "    }\n",
       "\n",
       "    .dataframe tbody tr th {\n",
       "        vertical-align: top;\n",
       "    }\n",
       "\n",
       "    .dataframe thead th {\n",
       "        text-align: right;\n",
       "    }\n",
       "</style>\n",
       "<table border=\"1\" class=\"dataframe\">\n",
       "  <thead>\n",
       "    <tr style=\"text-align: right;\">\n",
       "      <th></th>\n",
       "      <th>base</th>\n",
       "      <th>output</th>\n",
       "    </tr>\n",
       "  </thead>\n",
       "  <tbody>\n",
       "    <tr>\n",
       "      <th>0</th>\n",
       "      <td>1</td>\n",
       "      <td>2</td>\n",
       "    </tr>\n",
       "    <tr>\n",
       "      <th>1</th>\n",
       "      <td>2</td>\n",
       "      <td>4</td>\n",
       "    </tr>\n",
       "    <tr>\n",
       "      <th>2</th>\n",
       "      <td>3</td>\n",
       "      <td>6</td>\n",
       "    </tr>\n",
       "    <tr>\n",
       "      <th>3</th>\n",
       "      <td>4</td>\n",
       "      <td>8</td>\n",
       "    </tr>\n",
       "    <tr>\n",
       "      <th>4</th>\n",
       "      <td>5</td>\n",
       "      <td>10</td>\n",
       "    </tr>\n",
       "    <tr>\n",
       "      <th>5</th>\n",
       "      <td>6</td>\n",
       "      <td>12</td>\n",
       "    </tr>\n",
       "    <tr>\n",
       "      <th>6</th>\n",
       "      <td>7</td>\n",
       "      <td>14</td>\n",
       "    </tr>\n",
       "    <tr>\n",
       "      <th>7</th>\n",
       "      <td>8</td>\n",
       "      <td>16</td>\n",
       "    </tr>\n",
       "    <tr>\n",
       "      <th>8</th>\n",
       "      <td>9</td>\n",
       "      <td>18</td>\n",
       "    </tr>\n",
       "    <tr>\n",
       "      <th>9</th>\n",
       "      <td>10</td>\n",
       "      <td>20</td>\n",
       "    </tr>\n",
       "  </tbody>\n",
       "</table>\n",
       "</div>"
      ],
      "text/plain": [
       "   base  output\n",
       "0     1       2\n",
       "1     2       4\n",
       "2     3       6\n",
       "3     4       8\n",
       "4     5      10\n",
       "5     6      12\n",
       "6     7      14\n",
       "7     8      16\n",
       "8     9      18\n",
       "9    10      20"
      ]
     },
     "execution_count": 131,
     "metadata": {},
     "output_type": "execute_result"
    }
   ],
   "source": [
    "two_table"
   ]
  },
  {
   "cell_type": "code",
   "execution_count": 130,
   "id": "9a575802-56b2-48cc-b1c0-2273102ee020",
   "metadata": {},
   "outputs": [],
   "source": [
    "two_table['output'] = two_table['base']* 2"
   ]
  },
  {
   "cell_type": "code",
   "execution_count": null,
   "id": "fb64c34f-14d5-471f-81ab-b00abc9a78ea",
   "metadata": {},
   "outputs": [],
   "source": [
    "df3['Year'] = df2.sum(axis=1, numeric_only=True)"
   ]
  },
  {
   "cell_type": "code",
   "execution_count": null,
   "id": "439b83ae-3bbc-4483-855e-2fce33bb3a20",
   "metadata": {},
   "outputs": [],
   "source": [
    "df3"
   ]
  },
  {
   "cell_type": "code",
   "execution_count": null,
   "id": "6056c20a-c8ba-44cf-8948-bda4a536f247",
   "metadata": {},
   "outputs": [],
   "source": [
    "df2.sum()"
   ]
  },
  {
   "cell_type": "code",
   "execution_count": 132,
   "id": "f79d6887-f64c-4d51-9dc6-508ee233dc52",
   "metadata": {},
   "outputs": [],
   "source": [
    "employee_df = pd.read_csv(\"employee_salary.txt\")"
   ]
  },
  {
   "cell_type": "markdown",
   "id": "fa7292d9-5715-4db8-a1dc-09fb2bce439f",
   "metadata": {},
   "source": [
    "employee_df"
   ]
  },
  {
   "cell_type": "code",
   "execution_count": null,
   "id": "ec278b69-28f6-451f-bfc1-aeda456c9f1c",
   "metadata": {},
   "outputs": [],
   "source": [
    "print(employee_df)"
   ]
  },
  {
   "cell_type": "code",
   "execution_count": null,
   "id": "252054b2-cd56-429c-9852-ab7365359d55",
   "metadata": {},
   "outputs": [],
   "source": [
    "employee_df.groupby(['employee_name']).sum(['salary'])"
   ]
  },
  {
   "cell_type": "code",
   "execution_count": null,
   "id": "acab8a80-3eed-47d0-b5b6-a529fbab6eed",
   "metadata": {},
   "outputs": [],
   "source": [
    "employee_df.nlargest(2, ['salary'])"
   ]
  },
  {
   "cell_type": "code",
   "execution_count": null,
   "id": "5b946fff-af0f-4b4f-8b2c-dc9a7f2bb644",
   "metadata": {},
   "outputs": [],
   "source": [
    "employee_df.groupby(['employee_name']).apply(lambda x: x.nlargest(2,['salary']),include_groups=False)"
   ]
  },
  {
   "cell_type": "code",
   "execution_count": null,
   "id": "485cc2f9-3da3-4a34-9296-a1ba432907ba",
   "metadata": {},
   "outputs": [],
   "source": []
  },
  {
   "cell_type": "code",
   "execution_count": null,
   "id": "7da30ed0-3bc9-4e6c-bed8-0b859074a9c7",
   "metadata": {},
   "outputs": [],
   "source": [
    "a = [1,2,3,4]"
   ]
  },
  {
   "cell_type": "code",
   "execution_count": null,
   "id": "328d369e-844a-4d67-83ff-91e2a131e14c",
   "metadata": {},
   "outputs": [],
   "source": [
    "a[2]"
   ]
  },
  {
   "cell_type": "code",
   "execution_count": null,
   "id": "4b470e33-de6c-44b6-9bab-359054869f5f",
   "metadata": {},
   "outputs": [],
   "source": [
    "a = [1,2,3,4,5,6,7,8,9,10]"
   ]
  },
  {
   "cell_type": "code",
   "execution_count": null,
   "id": "8144058f-dce0-44ea-9833-5deba7d1d2c3",
   "metadata": {},
   "outputs": [],
   "source": [
    "two_table = pd.DataFrame(a).rename(columns={ 0 : \"base\"})"
   ]
  },
  {
   "cell_type": "code",
   "execution_count": null,
   "id": "a350aa72-e973-4077-b43e-27572eb5fec2",
   "metadata": {},
   "outputs": [],
   "source": [
    "two_table['output'] = two_table['base']*2"
   ]
  },
  {
   "cell_type": "code",
   "execution_count": null,
   "id": "ffbec9ea-ddc4-4fb6-938e-3dcd2898d962",
   "metadata": {},
   "outputs": [],
   "source": [
    "two_table"
   ]
  },
  {
   "cell_type": "code",
   "execution_count": 133,
   "id": "c298f85a-ac52-4e8f-8e0e-ab8622c32b66",
   "metadata": {},
   "outputs": [],
   "source": [
    "df = pd.read_csv(\"employee_salary.txt\")"
   ]
  },
  {
   "cell_type": "code",
   "execution_count": 134,
   "id": "d6355c42-733a-48b4-857d-a9a57153db72",
   "metadata": {},
   "outputs": [
    {
     "data": {
      "text/html": [
       "<div>\n",
       "<style scoped>\n",
       "    .dataframe tbody tr th:only-of-type {\n",
       "        vertical-align: middle;\n",
       "    }\n",
       "\n",
       "    .dataframe tbody tr th {\n",
       "        vertical-align: top;\n",
       "    }\n",
       "\n",
       "    .dataframe thead th {\n",
       "        text-align: right;\n",
       "    }\n",
       "</style>\n",
       "<table border=\"1\" class=\"dataframe\">\n",
       "  <thead>\n",
       "    <tr style=\"text-align: right;\">\n",
       "      <th></th>\n",
       "      <th>employee_name</th>\n",
       "      <th>salary</th>\n",
       "      <th>month</th>\n",
       "      <th>dept</th>\n",
       "    </tr>\n",
       "  </thead>\n",
       "  <tbody>\n",
       "    <tr>\n",
       "      <th>0</th>\n",
       "      <td>John</td>\n",
       "      <td>388</td>\n",
       "      <td>Jan</td>\n",
       "      <td>dept1</td>\n",
       "    </tr>\n",
       "    <tr>\n",
       "      <th>1</th>\n",
       "      <td>John</td>\n",
       "      <td>20</td>\n",
       "      <td>Feb</td>\n",
       "      <td>dept2</td>\n",
       "    </tr>\n",
       "    <tr>\n",
       "      <th>2</th>\n",
       "      <td>John</td>\n",
       "      <td>30</td>\n",
       "      <td>Mar</td>\n",
       "      <td>dept1</td>\n",
       "    </tr>\n",
       "    <tr>\n",
       "      <th>3</th>\n",
       "      <td>John</td>\n",
       "      <td>40</td>\n",
       "      <td>Apr</td>\n",
       "      <td>dept2</td>\n",
       "    </tr>\n",
       "    <tr>\n",
       "      <th>4</th>\n",
       "      <td>Sarah</td>\n",
       "      <td>100</td>\n",
       "      <td>Jan</td>\n",
       "      <td>dept1</td>\n",
       "    </tr>\n",
       "    <tr>\n",
       "      <th>5</th>\n",
       "      <td>Sarah</td>\n",
       "      <td>2</td>\n",
       "      <td>Feb</td>\n",
       "      <td>dept2</td>\n",
       "    </tr>\n",
       "    <tr>\n",
       "      <th>6</th>\n",
       "      <td>Sarah</td>\n",
       "      <td>322</td>\n",
       "      <td>Mar</td>\n",
       "      <td>dept1</td>\n",
       "    </tr>\n",
       "    <tr>\n",
       "      <th>7</th>\n",
       "      <td>Sarah</td>\n",
       "      <td>402</td>\n",
       "      <td>Apr</td>\n",
       "      <td>dept2</td>\n",
       "    </tr>\n",
       "  </tbody>\n",
       "</table>\n",
       "</div>"
      ],
      "text/plain": [
       "  employee_name  salary month   dept\n",
       "0          John     388   Jan  dept1\n",
       "1          John      20   Feb  dept2\n",
       "2          John      30   Mar  dept1\n",
       "3          John      40   Apr  dept2\n",
       "4         Sarah     100   Jan  dept1\n",
       "5         Sarah       2   Feb  dept2\n",
       "6         Sarah     322   Mar  dept1\n",
       "7         Sarah     402   Apr  dept2"
      ]
     },
     "execution_count": 134,
     "metadata": {},
     "output_type": "execute_result"
    }
   ],
   "source": [
    "df"
   ]
  },
  {
   "cell_type": "code",
   "execution_count": 135,
   "id": "d318d33d-ad4f-4c1f-abd7-ff589f78c802",
   "metadata": {},
   "outputs": [
    {
     "data": {
      "text/plain": [
       "np.int64(1304)"
      ]
     },
     "execution_count": 135,
     "metadata": {},
     "output_type": "execute_result"
    }
   ],
   "source": [
    "df['salary'].sum()"
   ]
  },
  {
   "cell_type": "code",
   "execution_count": null,
   "id": "683b140d-f93e-405c-9e3c-613e04eac43c",
   "metadata": {},
   "outputs": [],
   "source": []
  }
 ],
 "metadata": {
  "kernelspec": {
   "display_name": "Python 3 (ipykernel)",
   "language": "python",
   "name": "python3"
  },
  "language_info": {
   "codemirror_mode": {
    "name": "ipython",
    "version": 3
   },
   "file_extension": ".py",
   "mimetype": "text/x-python",
   "name": "python",
   "nbconvert_exporter": "python",
   "pygments_lexer": "ipython3",
   "version": "3.10.10"
  }
 },
 "nbformat": 4,
 "nbformat_minor": 5
}
