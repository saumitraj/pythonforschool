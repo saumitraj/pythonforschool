{
 "cells": [
  {
   "cell_type": "code",
   "execution_count": 1,
   "id": "9596403a-ea01-4069-8cc8-0fb0c3232c14",
   "metadata": {},
   "outputs": [],
   "source": [
    "import pandas as pd\n",
    "import numpy as np\n",
    "import matplotlib as plt"
   ]
  },
  {
   "cell_type": "code",
   "execution_count": 13,
   "id": "492ee4ae-c553-4696-a259-b74af679ef38",
   "metadata": {},
   "outputs": [],
   "source": [
    "original_df = pd.read_csv('https://tinyurl.com/jppdatapd')\n"
   ]
  },
  {
   "cell_type": "code",
   "execution_count": 41,
   "id": "fd2aab37-c903-4b12-94ed-36d7d3a3ca62",
   "metadata": {},
   "outputs": [],
   "source": [
    "df = original_df.copy()"
   ]
  },
  {
   "cell_type": "code",
   "execution_count": 45,
   "id": "fd4dad55-338e-4d4a-b70a-0b4423dd93f5",
   "metadata": {},
   "outputs": [
    {
     "data": {
      "text/html": [
       "<div>\n",
       "<style scoped>\n",
       "    .dataframe tbody tr th:only-of-type {\n",
       "        vertical-align: middle;\n",
       "    }\n",
       "\n",
       "    .dataframe tbody tr th {\n",
       "        vertical-align: top;\n",
       "    }\n",
       "\n",
       "    .dataframe thead th {\n",
       "        text-align: right;\n",
       "    }\n",
       "</style>\n",
       "<table border=\"1\" class=\"dataframe\">\n",
       "  <thead>\n",
       "    <tr style=\"text-align: right;\">\n",
       "      <th></th>\n",
       "      <th>Duration</th>\n",
       "      <th>Pulse</th>\n",
       "      <th>Maxpulse</th>\n",
       "      <th>Calories</th>\n",
       "    </tr>\n",
       "  </thead>\n",
       "  <tbody>\n",
       "  </tbody>\n",
       "</table>\n",
       "</div>"
      ],
      "text/plain": [
       "Empty DataFrame\n",
       "Columns: [Duration, Pulse, Maxpulse, Calories]\n",
       "Index: []"
      ]
     },
     "execution_count": 45,
     "metadata": {},
     "output_type": "execute_result"
    }
   ],
   "source": [
    "df[df.isna().any(axis=1)]"
   ]
  },
  {
   "cell_type": "code",
   "execution_count": 25,
   "id": "a94369a2-f7e2-48ac-94ab-889a58585017",
   "metadata": {},
   "outputs": [],
   "source": [
    "df.dropna(inplace=True)"
   ]
  },
  {
   "cell_type": "code",
   "execution_count": 39,
   "id": "6a4be87c-a010-4a9f-980e-88258d37b665",
   "metadata": {},
   "outputs": [],
   "source": [
    "df['Calories'].fillna(0,inplace=True)"
   ]
  },
  {
   "cell_type": "markdown",
   "id": "4ed8847e-9de0-465d-b293-33f9bdbe1525",
   "metadata": {},
   "source": [
    "Replacing the Null values with mathematical function output"
   ]
  },
  {
   "cell_type": "code",
   "execution_count": 49,
   "id": "dc370c72-f86a-49e7-b66c-1d24b32fa3cc",
   "metadata": {},
   "outputs": [],
   "source": [
    "df = original_df.copy()\n",
    "x = df['Calories'].mean()\n",
    "df['Calories'].fillna(x, inplace=True)"
   ]
  },
  {
   "cell_type": "code",
   "execution_count": 51,
   "id": "dc20f6a2-6885-40c2-b20f-ae796b52378f",
   "metadata": {},
   "outputs": [],
   "source": [
    "df = original_df.copy()\n",
    "x = df['Calories'].median()\n",
    "df['Calories'].fillna(x, inplace=True)"
   ]
  },
  {
   "cell_type": "code",
   "execution_count": 53,
   "id": "f24ed8b9-5282-4e10-9711-08c964b822a0",
   "metadata": {},
   "outputs": [],
   "source": [
    "df = original_df.copy()\n",
    "x = df['Calories'].mode()[0]\n",
    "df['Calories'].fillna(x, inplace=True)"
   ]
  },
  {
   "cell_type": "code",
   "execution_count": 57,
   "id": "5a486af5-3eff-41f7-a509-7fafcfbf8f88",
   "metadata": {},
   "outputs": [
    {
     "name": "stdout",
     "output_type": "stream",
     "text": [
      "     Duration  Pulse  Maxpulse  Calories\n",
      "36         60    102       127     300.0\n",
      "37         60    100       120     300.0\n",
      "38         60    100       120     300.0\n",
      "40         45     90       112     180.1\n",
      "71         60    109       153     387.6\n",
      "113        45    100       120     225.3\n",
      "155        60    111       151     368.5\n"
     ]
    }
   ],
   "source": [
    "print(df[df.duplicated()])"
   ]
  },
  {
   "cell_type": "code",
   "execution_count": 59,
   "id": "59ed3c4e-60fb-4a2b-8143-d116ae4b2278",
   "metadata": {},
   "outputs": [
    {
     "data": {
      "text/plain": [
       "Duration    169\n",
       "Pulse       169\n",
       "Maxpulse    169\n",
       "Calories    169\n",
       "dtype: int64"
      ]
     },
     "execution_count": 59,
     "metadata": {},
     "output_type": "execute_result"
    }
   ],
   "source": [
    "df.count()"
   ]
  },
  {
   "cell_type": "code",
   "execution_count": 61,
   "id": "c5f70ff4-345c-45fe-93ed-f96efc041ccf",
   "metadata": {},
   "outputs": [
    {
     "data": {
      "text/plain": [
       "169"
      ]
     },
     "execution_count": 61,
     "metadata": {},
     "output_type": "execute_result"
    }
   ],
   "source": [
    "df.shape[0]"
   ]
  },
  {
   "cell_type": "code",
   "execution_count": null,
   "id": "8fcefb1a-2b07-4341-bd53-78fe1da7c06c",
   "metadata": {},
   "outputs": [],
   "source": []
  }
 ],
 "metadata": {
  "kernelspec": {
   "display_name": "Python 3 (ipykernel)",
   "language": "python",
   "name": "python3"
  },
  "language_info": {
   "codemirror_mode": {
    "name": "ipython",
    "version": 3
   },
   "file_extension": ".py",
   "mimetype": "text/x-python",
   "name": "python",
   "nbconvert_exporter": "python",
   "pygments_lexer": "ipython3",
   "version": "3.11.7"
  }
 },
 "nbformat": 4,
 "nbformat_minor": 5
}
