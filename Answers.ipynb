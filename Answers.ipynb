{
 "cells": [
  {
   "cell_type": "markdown",
   "id": "daa153f5-cca6-4be8-9e52-a5876e557551",
   "metadata": {},
   "source": [
    "Answers"
   ]
  },
  {
   "cell_type": "code",
   "execution_count": null,
   "id": "ce8a70e0-b521-43ed-8843-f5ae8cb7f5c4",
   "metadata": {},
   "outputs": [],
   "source": [
    "list_numbers = [x for x in range(1,11)]\n",
    "odd_list = list_numbers[::2]\n",
    "even_list = list_numbers[1::2]\n",
    "odd_square = [x**2 for x in odd_list]\n",
    "even_square = [x**2 for x in even_list]\n",
    "combined_list = even_square + odd_square\n",
    "combined_list.sort()\n",
    "print(combined_list)"
   ]
  },
  {
   "cell_type": "code",
   "execution_count": 1,
   "id": "66730a57-a26f-4aad-a559-e879e7a930fb",
   "metadata": {},
   "outputs": [
    {
     "name": "stdout",
     "output_type": "stream",
     "text": [
      "['ALPHA', 'BETA', 'GAMMA', 'DELTA', 'EPISLON', 'ZETA', 'ETA', 'THETA', 'IOTA', 'KAPPA', 'LAMBDA', 'MU', 'NU', 'XI', 'OMICRON', 'PI', 'RHO', 'SIGMA', 'TAU', 'UPSIOLON', 'PHI', 'CHI', 'PSI', 'OMEGA']\n"
     ]
    }
   ],
   "source": [
    "list_greek_alphabets = ['alpha','beta','gamma','delta','epislon','zeta','eta','theta','iota','kappa','lambda','mu','nu','xi','omicron','pi','rho','sigma','tau','upsiolon','phi','chi','psi','omega']\n",
    "list_greek_alphabets = [x.upper() for x in list_greek_alphabets]\n",
    "print(list_greek_alphabets)"
   ]
  },
  {
   "cell_type": "code",
   "execution_count": 9,
   "id": "570a5d32-a4ab-410c-9683-1f49efc1494f",
   "metadata": {},
   "outputs": [
    {
     "name": "stdout",
     "output_type": "stream",
     "text": [
      "['H', 'E', 'L', 'O', 'W', 'R', 'D']\n"
     ]
    }
   ],
   "source": [
    "list_with_duplicates = ['H','E','L','L','O','W','O','R','L','D']\n",
    "list_without_duplicates = []\n",
    "[list_without_duplicates.append(x) for x in list_with_duplicates if x not in list_without_duplicates]\n",
    "print(str(list_without_duplicates))"
   ]
  },
  {
   "cell_type": "code",
   "execution_count": null,
   "id": "378c514b-daa8-4220-bb2a-70d73a74f25f",
   "metadata": {},
   "outputs": [],
   "source": []
  }
 ],
 "metadata": {
  "kernelspec": {
   "display_name": "Python 3 (ipykernel)",
   "language": "python",
   "name": "python3"
  },
  "language_info": {
   "codemirror_mode": {
    "name": "ipython",
    "version": 3
   },
   "file_extension": ".py",
   "mimetype": "text/x-python",
   "name": "python",
   "nbconvert_exporter": "python",
   "pygments_lexer": "ipython3",
   "version": "3.10.12"
  }
 },
 "nbformat": 4,
 "nbformat_minor": 5
}
