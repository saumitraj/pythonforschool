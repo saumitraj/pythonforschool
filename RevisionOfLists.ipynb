{
 "cells": [
  {
   "cell_type": "markdown",
   "id": "23ae238b-50bf-4249-a796-6a47fccd268b",
   "metadata": {},
   "source": [
    "Let us revise some of the concepts here such as \n",
    "1. Accessing specific elements of lists\n",
    "2. Slicing\n",
    "3. Merging"
   ]
  },
  {
   "cell_type": "code",
   "execution_count": null,
   "id": "68d5c0b5-c0a4-4002-b5e3-20b01ded342a",
   "metadata": {},
   "outputs": [],
   "source": [
    "list_of_scores = [35,45,68,89,90,100]"
   ]
  },
  {
   "cell_type": "markdown",
   "id": "b96394f2-1a0b-45ac-a36a-de36da6c09cb",
   "metadata": {},
   "source": [
    "Ways of printing first and last elements"
   ]
  },
  {
   "cell_type": "code",
   "execution_count": null,
   "id": "7bb7c59f-2c43-4e8a-a965-d62c2debb7e1",
   "metadata": {
    "scrolled": true
   },
   "outputs": [],
   "source": [
    "print (list_of_scores[0]) # Using Zero as the first element"
   ]
  },
  {
   "cell_type": "code",
   "execution_count": null,
   "id": "abce74f2-8eff-4f96-80b4-cebd6dd535e2",
   "metadata": {},
   "outputs": [],
   "source": [
    "print (list_of_scores[-6]) # Using negative indexing with last element being -1"
   ]
  },
  {
   "cell_type": "code",
   "execution_count": null,
   "id": "94bcf24d-2f50-4edd-8546-ca2fbc332597",
   "metadata": {},
   "outputs": [],
   "source": [
    "print (list_of_scores[5])"
   ]
  },
  {
   "cell_type": "code",
   "execution_count": null,
   "id": "82e0e271-1572-4c49-87b2-1bfe3aad4764",
   "metadata": {},
   "outputs": [],
   "source": [
    "print (list_of_scores[-1])"
   ]
  },
  {
   "cell_type": "markdown",
   "id": "14ff17d9-df93-469b-bb27-145383cdcd60",
   "metadata": {},
   "source": [
    "How do I cut a list? Let's get the \"slice\" of elements 2 until 5, i.e elements 2, 3, 4"
   ]
  },
  {
   "cell_type": "code",
   "execution_count": null,
   "id": "4a1d0760-5119-4a23-8a00-ed7b8e830401",
   "metadata": {},
   "outputs": [],
   "source": [
    "print (list_of_scores[1:4])"
   ]
  },
  {
   "cell_type": "markdown",
   "id": "3f33e64c-36a9-4b49-9964-6d65ba914e26",
   "metadata": {},
   "source": [
    "Slice in another manner"
   ]
  },
  {
   "cell_type": "code",
   "execution_count": null,
   "id": "e62f3bfc-9776-47f5-8a36-113cd2fec844",
   "metadata": {
    "scrolled": true
   },
   "outputs": [],
   "source": [
    "print (list_of_scores[-5:-2]) # Can use negative indexing as well"
   ]
  },
  {
   "cell_type": "markdown",
   "id": "e921cb35-53b8-4cbc-9b90-f66252108025",
   "metadata": {},
   "source": [
    "There is a third parameter to slicing as well!! Let's take a new list"
   ]
  },
  {
   "cell_type": "code",
   "execution_count": 1,
   "id": "44b3184d-9e4b-4cfe-9d63-7d0f48677e48",
   "metadata": {},
   "outputs": [],
   "source": [
    "list_new_list = ['alpha','beta','gamma','delta','epislon','zeta','eta','theta']"
   ]
  },
  {
   "cell_type": "markdown",
   "id": "7093c7a6-c1fc-4953-9560-37fe174d0748",
   "metadata": {},
   "source": [
    "We need every *second element* of the list, use the third parameter of slicing!"
   ]
  },
  {
   "cell_type": "code",
   "execution_count": 5,
   "id": "f6d38355-21a3-4f9f-8cad-0103676d77f0",
   "metadata": {},
   "outputs": [
    {
     "name": "stdout",
     "output_type": "stream",
     "text": [
      "['alpha', 'gamma', 'epislon', 'eta']\n"
     ]
    }
   ],
   "source": [
    "print(list_new_list[::2])"
   ]
  },
  {
   "cell_type": "markdown",
   "id": "7698630e-1dcb-4871-948f-9eaafe23324a",
   "metadata": {},
   "source": [
    "Replacing elements of a list using slicing"
   ]
  },
  {
   "cell_type": "code",
   "execution_count": 10,
   "id": "5b76649e-503c-46e9-86f3-c1cf6c31fe29",
   "metadata": {},
   "outputs": [
    {
     "name": "stdout",
     "output_type": "stream",
     "text": [
      "['Ramesh', 'Rakesh', 'Ram', 'Avin', 'Suresh', 'Mukesh', 'Mahesh']\n"
     ]
    }
   ],
   "source": [
    "some_names = [\"Ramesh\",\"Rakesh\",\"Ram\",\"Avin\",\"Suresh\",\"Mukesh\",\"Mahesh\"]\n",
    "print(some_names)"
   ]
  },
  {
   "cell_type": "code",
   "execution_count": 11,
   "id": "3cbedcaf-ef8e-4ce2-84cd-cfd8d023038a",
   "metadata": {},
   "outputs": [
    {
     "name": "stdout",
     "output_type": "stream",
     "text": [
      "['Ramesh', 'Rakesh', 'Ganesh', 'Gudakesh', 'Suresh', 'Mukesh', 'Mahesh']\n"
     ]
    }
   ],
   "source": [
    "some_names[2:4] = [\"Ganesh\",\"Gudakesh\"]\n",
    "print(some_names)"
   ]
  },
  {
   "cell_type": "code",
   "execution_count": null,
   "id": "e4d04f36-a8c5-4850-8229-d61340b89ead",
   "metadata": {},
   "outputs": [],
   "source": []
  }
 ],
 "metadata": {
  "kernelspec": {
   "display_name": "Saumitra-Python",
   "language": "python",
   "name": "saumitra-python"
  },
  "language_info": {
   "codemirror_mode": {
    "name": "ipython",
    "version": 3
   },
   "file_extension": ".py",
   "mimetype": "text/x-python",
   "name": "python",
   "nbconvert_exporter": "python",
   "pygments_lexer": "ipython3",
   "version": "3.7.16"
  }
 },
 "nbformat": 4,
 "nbformat_minor": 5
}
