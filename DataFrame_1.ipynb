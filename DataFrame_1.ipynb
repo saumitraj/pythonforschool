{
  "metadata": {
    "kernelspec": {
      "name": "python",
      "display_name": "Python (Pyodide)",
      "language": "python"
    },
    "language_info": {
      "codemirror_mode": {
        "name": "python",
        "version": 3
      },
      "file_extension": ".py",
      "mimetype": "text/x-python",
      "name": "python",
      "nbconvert_exporter": "python",
      "pygments_lexer": "ipython3",
      "version": "3.8"
    }
  },
  "nbformat_minor": 5,
  "nbformat": 4,
  "cells": [
    {
      "id": "453aac74-1b60-4bbe-9bbc-66ffb9565a34",
      "cell_type": "markdown",
      "source": "One of the most important libraries in data science is the pandas libraries. Created around 2008 by Wes McKinney at AQR Capital, open sourced in 2009 and since 2009 is sponsored by [NumFOCUS](https://numfocus.org/community/mission). The first thing to do is to import the library.",
      "metadata": {}
    },
    {
      "id": "baabd87f-2436-4343-b88e-154c72a5f968",
      "cell_type": "code",
      "source": "import pandas as pd",
      "metadata": {
        "trusted": true
      },
      "outputs": [],
      "execution_count": null
    },
    {
      "id": "644c9231-de83-415c-b8cb-79a5e3b4ed71",
      "cell_type": "markdown",
      "source": "We are going to look at **Dataframes** - one of the most important *enhancement* to a standard list in Python and is superuseful for tabular data. To start with, let us create a dictionary that represents a people and their ages. Note that the value of every *key* is a list! Also note that the size of the list for each key *has* to be the same!  ",
      "metadata": {}
    },
    {
      "id": "69d8662c-208a-4310-8a9a-b611d02382e3",
      "cell_type": "code",
      "source": "data = { \"Name\":[\"Ram\",\"Geeta\",\"Shyam\",\"Ajit\",\"Dia\",\"Tia\"],\"Age\":[13,12,14,13,12,13]}",
      "metadata": {
        "trusted": true
      },
      "outputs": [],
      "execution_count": null
    },
    {
      "id": "e23e3f9f-44a2-4125-aa43-494d0faee0b4",
      "cell_type": "code",
      "source": "data",
      "metadata": {
        "trusted": true
      },
      "outputs": [],
      "execution_count": null
    },
    {
      "id": "f3918917-44cb-4210-b18c-f3132981d7e9",
      "cell_type": "code",
      "source": "df = pd.DataFrame(data)",
      "metadata": {
        "trusted": true
      },
      "outputs": [],
      "execution_count": null
    },
    {
      "id": "737a179d-e1a6-468c-a669-e024e633d65f",
      "cell_type": "code",
      "source": "df",
      "metadata": {
        "trusted": true
      },
      "outputs": [],
      "execution_count": null
    },
    {
      "id": "4a906008-e005-4cdb-aef8-488d8973de19",
      "cell_type": "markdown",
      "source": "How can I get *specific* rows? We have a way to *locate* the rows; Say we want  the third row having the data for Shyam",
      "metadata": {}
    },
    {
      "id": "5574049f-87e6-47a4-b622-1ede0431b74a",
      "cell_type": "code",
      "source": "df.loc[2]",
      "metadata": {
        "trusted": true
      },
      "outputs": [],
      "execution_count": null
    },
    {
      "id": "21154512-913e-42c1-84fa-62ae13286696",
      "cell_type": "markdown",
      "source": "What if I want to locate multiple rows? Call loc function with a list of rows!",
      "metadata": {}
    },
    {
      "id": "799abe8f-3bad-4a71-9afa-c713cede41b1",
      "cell_type": "code",
      "source": "df.loc[[1,3]]",
      "metadata": {
        "trusted": true
      },
      "outputs": [],
      "execution_count": null
    },
    {
      "id": "04b68c6d-8680-40df-8266-adb49833045b",
      "cell_type": "markdown",
      "source": "What if I want to provide it with the name of the index?",
      "metadata": {}
    },
    {
      "id": "f49c13f4-fc6c-463e-8cb0-9257d68f6e59",
      "cell_type": "code",
      "source": "df = pd.DataFrame(data,index=[\"Ram\",\"Geeta\",\"Shyam\",\"Ajit\",\"Dia\",\"Tia\"])",
      "metadata": {
        "trusted": true
      },
      "outputs": [],
      "execution_count": null
    },
    {
      "id": "7e1d3480-3052-4a28-b93d-261b752f538c",
      "cell_type": "code",
      "source": "df",
      "metadata": {
        "trusted": true
      },
      "outputs": [],
      "execution_count": null
    },
    {
      "id": "98d268f6-4085-42ea-9c57-0ed3065622b8",
      "cell_type": "code",
      "source": "",
      "metadata": {
        "trusted": true
      },
      "outputs": [],
      "execution_count": null
    },
    {
      "id": "457276c2-61f7-424c-91de-d52875d39b01",
      "cell_type": "code",
      "source": "",
      "metadata": {
        "trusted": true
      },
      "outputs": [],
      "execution_count": null
    },
    {
      "id": "859496d1-05d6-4396-aef6-5edf718e7b53",
      "cell_type": "markdown",
      "source": "Now access any element via the named index",
      "metadata": {}
    },
    {
      "id": "859f544a-e9fa-4f26-ada8-84b2e94039fd",
      "cell_type": "code",
      "source": "df.loc[\"Tia\"]",
      "metadata": {
        "trusted": true
      },
      "outputs": [],
      "execution_count": null
    },
    {
      "id": "3da1726a-8b03-4e8e-9963-d09d4422df16",
      "cell_type": "markdown",
      "source": "How an I access columnar data? Say I want to access all the age?",
      "metadata": {}
    },
    {
      "id": "2b10e400-8fa7-4bb6-acff-160ea371fb00",
      "cell_type": "code",
      "source": "df[\"Age\"]",
      "metadata": {
        "trusted": true
      },
      "outputs": [],
      "execution_count": null
    },
    {
      "id": "b90009ed-cc83-4529-ac32-f5c22d2f4c3c",
      "cell_type": "markdown",
      "source": "What if I want to access top 2 or bottom 3 rows?",
      "metadata": {}
    },
    {
      "id": "82a0c0cd-0024-4ab8-b8ef-8f2bd3f3e122",
      "cell_type": "code",
      "source": "df.head(2)",
      "metadata": {
        "trusted": true
      },
      "outputs": [],
      "execution_count": null
    },
    {
      "id": "1d0a0627-8da4-44ea-aec7-5ebae2da109c",
      "cell_type": "code",
      "source": "df.tail(3)",
      "metadata": {
        "trusted": true
      },
      "outputs": [],
      "execution_count": null
    },
    {
      "id": "201b089c-48ce-44f5-8365-662f9f339bc9",
      "cell_type": "markdown",
      "source": "Information about the dataframe itself...",
      "metadata": {}
    },
    {
      "id": "f0a362eb-196e-4072-88cf-16373cd709cb",
      "cell_type": "code",
      "source": "df.info()",
      "metadata": {
        "trusted": true
      },
      "outputs": [],
      "execution_count": null
    },
    {
      "id": "fc4eba0a-2568-453d-97b6-5af9564ae6f1",
      "cell_type": "markdown",
      "source": "What If I want to add a new row to the dataframe?",
      "metadata": {}
    },
    {
      "id": "b220ce2b-689d-457e-844f-695f0d4faaf3",
      "cell_type": "code",
      "source": "df.loc[\"Vikas\"]=[\"Vikas\",13]",
      "metadata": {
        "trusted": true
      },
      "outputs": [],
      "execution_count": null
    },
    {
      "id": "c06d63c9-d17f-40fd-bc71-087e9ac8ced5",
      "cell_type": "code",
      "source": "df",
      "metadata": {
        "trusted": true
      },
      "outputs": [],
      "execution_count": null
    },
    {
      "id": "87d51ae8-e927-42cb-bc9d-17170f54f50b",
      "cell_type": "markdown",
      "source": "Removing a row from dataframe....",
      "metadata": {}
    },
    {
      "id": "9e7b276d-d4f7-4917-881f-59333727d0b3",
      "cell_type": "code",
      "source": "df.drop(\"Dia\")",
      "metadata": {
        "trusted": true
      },
      "outputs": [],
      "execution_count": null
    },
    {
      "id": "dd9d0353-bb2e-4ada-b30b-2a0948079b09",
      "cell_type": "code",
      "source": "df",
      "metadata": {
        "trusted": true
      },
      "outputs": [],
      "execution_count": null
    },
    {
      "id": "f536358f-90fb-43ca-a709-fd2ca5eb08d7",
      "cell_type": "markdown",
      "source": "Note that while we just dropped a row, df has *not* changed! Why? All DF operations are usuallu *immutable* and result in a **new** dataframe! If we have to drop from an *existing* dataframe, we need to use the ***inplace*** directive!",
      "metadata": {}
    },
    {
      "id": "9e6c1988-9cb9-408d-9713-28749a77c4ad",
      "cell_type": "code",
      "source": "df.drop(\"Dia\",inplace=True)",
      "metadata": {
        "trusted": true
      },
      "outputs": [],
      "execution_count": null
    },
    {
      "id": "9125db63-431e-452c-9f6c-bfccd919251d",
      "cell_type": "code",
      "source": "df",
      "metadata": {
        "trusted": true
      },
      "outputs": [],
      "execution_count": null
    },
    {
      "id": "afc678fb-f3f5-41cb-a85b-294628c7473d",
      "cell_type": "markdown",
      "source": "How can I combine two dataframes?",
      "metadata": {}
    },
    {
      "id": "32a791b7-ff0a-4b0f-ba6a-1c21ba361dc9",
      "cell_type": "code",
      "source": "data_2 = {\"Name\":[\"Pappu\",\"Kallu\"],\"Age\":[21,22]}",
      "metadata": {
        "trusted": true
      },
      "outputs": [],
      "execution_count": null
    },
    {
      "id": "a24f3448-77a7-4dc9-95f7-85709ba0ed8e",
      "cell_type": "code",
      "source": "df2 = pd.DataFrame(data_2)",
      "metadata": {
        "trusted": true
      },
      "outputs": [],
      "execution_count": null
    },
    {
      "id": "9a7dd34c-a621-42e0-8883-d671799cbfc7",
      "cell_type": "code",
      "source": "df2",
      "metadata": {
        "trusted": true
      },
      "outputs": [],
      "execution_count": null
    },
    {
      "id": "e5bd7543-3116-43fb-86ce-87fccdca2c4e",
      "cell_type": "code",
      "source": "pd.concat([df,df2])",
      "metadata": {
        "trusted": true
      },
      "outputs": [],
      "execution_count": null
    },
    {
      "id": "f97b5b53-8fe1-4aeb-886f-6d1e942b5443",
      "cell_type": "markdown",
      "source": "",
      "metadata": {}
    }
  ]
}