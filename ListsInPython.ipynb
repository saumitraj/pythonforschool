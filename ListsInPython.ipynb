{
 "cells": [
  {
   "cell_type": "markdown",
   "id": "2ce9baee-928e-4b0d-89e1-9377e0afb594",
   "metadata": {},
   "source": [
    "A \"compound data type\" or a \"container\" in python is used for grouping, list is one of the four available in Python. The others are Sets, Tuples and Dictionary. A simple Python list looks like this:"
   ]
  },
  {
   "cell_type": "code",
   "execution_count": 2,
   "id": "b842c052-0e9e-44cc-a3d9-9d5adc1da496",
   "metadata": {},
   "outputs": [],
   "source": [
    "list_of_squares_of_integers_upto_10 = [1,4,9,16,25,36,49,64,81,100]"
   ]
  },
  {
   "cell_type": "markdown",
   "id": "c3426633-a8e1-42c3-a07d-3613fa9970df",
   "metadata": {},
   "source": [
    "Some of the operations that you can perform on this list:\n",
    "1. Accessing a specific Element\n",
    "2. Adding additional members into the list (Concatenation)\n",
    "3. Merging of lists\n",
    "4. Sorting and Reversing\n",
    "5. \"Slicing\" of lists and list comprehension\n",
    "7. Searching \n",
    "8. Comparison\n",
    "\n",
    "Let's start with the first one: accessing a specific element"
   ]
  },
  {
   "cell_type": "code",
   "execution_count": 12,
   "id": "ae7f9cb4-06b0-4bc8-994e-37664a4a599f",
   "metadata": {},
   "outputs": [
    {
     "name": "stdout",
     "output_type": "stream",
     "text": [
      "***** LIST OF SQUARES ***** \n",
      " \n",
      "[1, 4, 9, 16, 25, 36, 49, 64, 81, 100]\n",
      "\n",
      "\n",
      "First: 1\n",
      "Fourth: 16\n",
      "Last: 100\n",
      "\n",
      " **** Another Way **** \n",
      "\n",
      "Last:100\n",
      "Fourth: 16\n",
      "First: 1\n"
     ]
    }
   ],
   "source": [
    "print(\"***** LIST OF SQUARES ***** \\n \")\n",
    "print(list_of_squares_of_integers_upto_10)\n",
    "print (\"\\n\")\n",
    "print (\"First: \"+str(list_of_squares_of_integers_upto_10[0]))\n",
    "print (\"Fourth: \"+str(list_of_squares_of_integers_upto_10[3]))\n",
    "print (\"Last: \"+str(list_of_squares_of_integers_upto_10[9]))\n",
    "\n",
    "print (\"\\n **** Another Way **** \\n\")\n",
    "       \n",
    "print (\"Last:\"+str(list_of_squares_of_integers_upto_10[-1]))\n",
    "print (\"Fourth: \"+str(list_of_squares_of_integers_upto_10[-7]))\n",
    "print (\"First: \"+str(list_of_squares_of_integers_upto_10[-10]))"
   ]
  },
  {
   "cell_type": "markdown",
   "id": "2b192423-836e-4897-a359-65377f700012",
   "metadata": {},
   "source": [
    "Note that the list indices can start from 0 (first element) to n-1 (last element) or from -1 (last element) to -n (first element).\n",
    "Note the usage of the function srtr() to concatenate an Integer with a string. Also, note the usage of the character \"\\n\" to insert a new line. This is also called as \"Carriage Return\" or \"Line Break\"\n",
    "Now let us look at adding new numbers to the list, i.e. we will concatenate two lists"
   ]
  },
  {
   "cell_type": "code",
   "execution_count": 14,
   "id": "b8de52a5-6536-473f-9c89-3e1cd28c0fbc",
   "metadata": {},
   "outputs": [
    {
     "name": "stdout",
     "output_type": "stream",
     "text": [
      "[1, 4, 9, 16, 25, 36, 49, 64, 81, 100, 121, 144, 169, 196, 225]\n"
     ]
    }
   ],
   "source": [
    "list_of_squares_of_integers_upto_10 =  list_of_squares_of_integers_upto_10 + [121,144,169,196,225]\n",
    "print(list_of_squares_of_integers_upto_10)"
   ]
  },
  {
   "cell_type": "markdown",
   "id": "a4e33112-5141-492c-8a92-d4555e2185ea",
   "metadata": {},
   "source": [
    "Note that our variable is now called list_square_of_integers_upto_10 but has sqaures yupto 15! We will fix this later!\n",
    "We can also add two lists: "
   ]
  },
  {
   "cell_type": "code",
   "execution_count": 15,
   "id": "2c54c49d-6b61-4d3c-93e7-727b723f0291",
   "metadata": {},
   "outputs": [
    {
     "name": "stdout",
     "output_type": "stream",
     "text": [
      "[2, 4, 6, 8, 10]\n",
      "[1, 3, 5, 7, 9]\n",
      "[1, 3, 5, 7, 9, 2, 4, 6, 8, 10]\n"
     ]
    }
   ],
   "source": [
    "list_even = [2,4,6,8,10]\n",
    "list_odd = [1,3,5,7,9]\n",
    "list_merged = list_odd + list_even\n",
    "print(list_even)\n",
    "print(list_odd)\n",
    "print(list_merged)"
   ]
  },
  {
   "cell_type": "markdown",
   "id": "97d33013-b9a7-4180-b3d3-0c6f1b3faa40",
   "metadata": {},
   "source": [
    "Note that in concatenation, Python simply appends the second list to the first! What if we want a sorted list? Helps comes from an inbuilt function!"
   ]
  },
  {
   "cell_type": "code",
   "execution_count": 17,
   "id": "090fd4ce-fe90-4598-b8a7-cfac77bfd6e8",
   "metadata": {},
   "outputs": [
    {
     "name": "stdout",
     "output_type": "stream",
     "text": [
      "[1, 2, 3, 4, 5, 6, 7, 8, 9, 10]\n"
     ]
    }
   ],
   "source": [
    "list_merged.sort()\n",
    "print(list_merged)"
   ]
  },
  {
   "cell_type": "markdown",
   "id": "a5f6c51e-2f43-401e-b4c0-cb29086482b8",
   "metadata": {},
   "source": [
    "What if my list consists of text?"
   ]
  },
  {
   "cell_type": "code",
   "execution_count": 19,
   "id": "5432192f-cc52-425a-a071-bc7b4472e12c",
   "metadata": {},
   "outputs": [
    {
     "name": "stdout",
     "output_type": "stream",
     "text": [
      "['Mumbai', 'Ahmedabad', 'Kolikata', 'Delhi']\n",
      "['Ahmedabad', 'Delhi', 'Kolikata', 'Mumbai']\n"
     ]
    }
   ],
   "source": [
    "list_cities = [\"Mumbai\",\"Ahmedabad\",\"Kolikata\",\"Delhi\"]\n",
    "print(list_cities)\n",
    "list_cities.sort()\n",
    "print(list_cities)"
   ]
  },
  {
   "cell_type": "markdown",
   "id": "c8741e19-ad1f-4148-a2c6-aeaf08bfa386",
   "metadata": {},
   "source": [
    "Quiz: How does sort work in this case? How does the Python know to sort text alphabetically but numbers in an ordinal fashion? Answer next time :)\n",
    "What if we have a mixed list?= i.e. list consisting of *both* numbers and text?"
   ]
  },
  {
   "cell_type": "code",
   "execution_count": 20,
   "id": "beac5a32-bfd3-4ae8-93d5-8e2f0abe5b85",
   "metadata": {},
   "outputs": [
    {
     "name": "stdout",
     "output_type": "stream",
     "text": [
      "[10, 'Cat', 40, 'Dog', 'Tiger', 3.14, 'Parrot']\n"
     ]
    },
    {
     "ename": "TypeError",
     "evalue": "'<' not supported between instances of 'str' and 'int'",
     "output_type": "error",
     "traceback": [
      "\u001b[0;31m---------------------------------------------------------------------------\u001b[0m",
      "\u001b[0;31mTypeError\u001b[0m                                 Traceback (most recent call last)",
      "\u001b[0;32m/tmp/ipykernel_1205/4021792892.py\u001b[0m in \u001b[0;36m<module>\u001b[0;34m\u001b[0m\n\u001b[1;32m      1\u001b[0m \u001b[0mlist_mixed\u001b[0m \u001b[0;34m=\u001b[0m \u001b[0;34m[\u001b[0m\u001b[0;36m10\u001b[0m\u001b[0;34m,\u001b[0m\u001b[0;34m\"Cat\"\u001b[0m\u001b[0;34m,\u001b[0m\u001b[0;36m40\u001b[0m\u001b[0;34m,\u001b[0m\u001b[0;34m\"Dog\"\u001b[0m\u001b[0;34m,\u001b[0m\u001b[0;34m\"Tiger\"\u001b[0m\u001b[0;34m,\u001b[0m\u001b[0;36m3.14\u001b[0m\u001b[0;34m,\u001b[0m\u001b[0;34m\"Parrot\"\u001b[0m\u001b[0;34m]\u001b[0m\u001b[0;34m\u001b[0m\u001b[0;34m\u001b[0m\u001b[0m\n\u001b[1;32m      2\u001b[0m \u001b[0mprint\u001b[0m\u001b[0;34m(\u001b[0m\u001b[0mlist_mixed\u001b[0m\u001b[0;34m)\u001b[0m\u001b[0;34m\u001b[0m\u001b[0;34m\u001b[0m\u001b[0m\n\u001b[0;32m----> 3\u001b[0;31m \u001b[0mlist_mixed\u001b[0m\u001b[0;34m.\u001b[0m\u001b[0msort\u001b[0m\u001b[0;34m(\u001b[0m\u001b[0;34m)\u001b[0m\u001b[0;34m\u001b[0m\u001b[0;34m\u001b[0m\u001b[0m\n\u001b[0m\u001b[1;32m      4\u001b[0m \u001b[0mprint\u001b[0m\u001b[0;34m(\u001b[0m\u001b[0mlist_mixed\u001b[0m\u001b[0;34m)\u001b[0m\u001b[0;34m\u001b[0m\u001b[0;34m\u001b[0m\u001b[0m\n",
      "\u001b[0;31mTypeError\u001b[0m: '<' not supported between instances of 'str' and 'int'"
     ]
    }
   ],
   "source": [
    "list_mixed = [10,\"Cat\",40,\"Dog\",\"Tiger\",3.14,\"Parrot\"]\n",
    "print(list_mixed)\n",
    "list_mixed.sort()\n",
    "print(list_mixed)"
   ]
  },
  {
   "cell_type": "code",
   "execution_count": 29,
   "id": "3387759a-7d19-4ba8-96e1-e7bbd280d908",
   "metadata": {},
   "outputs": [
    {
     "name": "stdout",
     "output_type": "stream",
     "text": [
      "[10, 40, 3.14, 'Cat', 'Dog', 'Parrot', 'Tiger']\n"
     ]
    }
   ],
   "source": [
    "def sorthelper(element):\n",
    "    if isinstance(element,int):\n",
    "        return (0, int(element), '')\n",
    "    elif isinstance(element,float):\n",
    "        return (1,float(element),'')\n",
    "    return (2,element, '') \n",
    "\n",
    "list_mixed.sort(key=sorthelper)\n",
    "print(list_mixed)"
   ]
  },
  {
   "cell_type": "markdown",
   "id": "38389efb-fc8a-4ceb-8035-1c453c7cb3eb",
   "metadata": {},
   "source": [
    "As you have noticed, sort() on list modifies the list itself. What if you do not want to modify the original list? You have the function sorted() to your rescue!"
   ]
  },
  {
   "cell_type": "code",
   "execution_count": 26,
   "id": "5ddaae11-4b0b-4c80-965f-42091393cac9",
   "metadata": {},
   "outputs": [
    {
     "name": "stdout",
     "output_type": "stream",
     "text": [
      "[32, 25, 43, 58, 4, 255, 36]\n",
      "[4, 25, 32, 36, 43, 58, 255]\n"
     ]
    }
   ],
   "source": [
    "orig_list = [32,25,43,58,4,255,36]\n",
    "sorted_list = sorted(orig_list)\n",
    "print(orig_list)\n",
    "print(sorted_list)"
   ]
  },
  {
   "cell_type": "markdown",
   "id": "cd834c11-b8e6-446e-996e-0cb6d9674eb4",
   "metadata": {},
   "source": [
    "Sorted also needs comparator when it comes to mixed lists!"
   ]
  },
  {
   "cell_type": "code",
   "execution_count": 30,
   "id": "ecb78c0b-c3f5-45d2-b879-4264f9bce4a5",
   "metadata": {},
   "outputs": [
    {
     "name": "stdout",
     "output_type": "stream",
     "text": [
      "['Q', 32, 'W', 'E', 'R', 65, 141, 'Y']\n",
      "[32, 65, 141, 'E', 'Q', 'R', 'W', 'Y']\n"
     ]
    }
   ],
   "source": [
    "new_mixed_list = [\"Q\",32,\"W\",\"E\",\"R\",65,141,\"Y\"]\n",
    "sorted_mixed_list = sorted(new_mixed_list,key=sorthelper)\n",
    "print(new_mixed_list)\n",
    "print(sorted_mixed_list)"
   ]
  },
  {
   "cell_type": "markdown",
   "id": "2b002df9-eef3-4683-9008-9475f0cc02f9",
   "metadata": {},
   "source": [
    "And finally, what if we want to sort in reverse? Just simply let the sort function know!"
   ]
  },
  {
   "cell_type": "code",
   "execution_count": 39,
   "id": "424f5331-90fe-4b6e-bc13-6af8478de1f7",
   "metadata": {},
   "outputs": [],
   "source": [
    "rev_sorted_list_1 = reversed(orig_list)\n",
    "rev_sorted_list_2 = sorted(orig_list, reverse=True)\n",
    "list_cities.reverse()\n",
    "list_merged.sort(reverse=True)"
   ]
  },
  {
   "cell_type": "code",
   "execution_count": 40,
   "id": "c0573351-6b5a-4574-be78-ba73e790b208",
   "metadata": {},
   "outputs": [
    {
     "name": "stdout",
     "output_type": "stream",
     "text": [
      "<list_reverseiterator object at 0x7fa388473b10>\n",
      "[255, 58, 43, 36, 32, 25, 4]\n",
      "['Mumbai', 'Kolikata', 'Delhi', 'Ahmedabad']\n",
      "[10, 9, 8, 7, 6, 5, 4, 3, 2, 1]\n"
     ]
    }
   ],
   "source": [
    "print(rev_sorted_list_1)\n",
    "print(rev_sorted_list_2)\n",
    "print(list_cities)\n",
    "print(list_merged)"
   ]
  },
  {
   "cell_type": "markdown",
   "id": "9409c2f4-a7a1-455d-b63a-1d521d4732df",
   "metadata": {},
   "source": [
    "Note the **difference** between sorted() and reversed()! Reversed returns an iterator in a reversed manner and does not reverse the actual list!"
   ]
  },
  {
   "cell_type": "code",
   "execution_count": 41,
   "id": "abd14740-a1b1-4ae9-a6bf-b17821373d3a",
   "metadata": {},
   "outputs": [
    {
     "name": "stdout",
     "output_type": "stream",
     "text": [
      "36\n",
      "255\n",
      "4\n",
      "58\n",
      "43\n",
      "25\n",
      "32\n"
     ]
    }
   ],
   "source": [
    "for s in rev_sorted_list_1:\n",
    "    print(s)"
   ]
  },
  {
   "cell_type": "markdown",
   "id": "70f45b51-7e58-47e5-aeb7-ba6eb8e976f5",
   "metadata": {},
   "source": [
    "Now let's look at the concept of slicing of lists. Let's start with a list of numbers from 1 to 100. I am too lazy to write them all up so I use the concept of List Comprehension. We will revisit this concept in details but for now, let's look at it is a way to programatically generate numbers in a list"
   ]
  },
  {
   "cell_type": "code",
   "execution_count": 45,
   "id": "f24650dd-62f2-43c3-a6ba-fc12dc51fce5",
   "metadata": {},
   "outputs": [
    {
     "name": "stdout",
     "output_type": "stream",
     "text": [
      "[2, 4, 6, 8, 10, 12, 14, 16, 18, 20, 22, 24, 26, 28, 30, 32, 34, 36, 38, 40, 42, 44, 46, 48, 50, 52, 54, 56, 58, 60, 62, 64, 66, 68, 70, 72, 74, 76, 78, 80, 82, 84, 86, 88, 90, 92, 94, 96, 98, 100]\n",
      "[1, 3, 5, 7, 9, 11, 13, 15, 17, 19, 21, 23, 25, 27, 29, 31, 33, 35, 37, 39, 41, 43, 45, 47, 49, 51, 53, 55, 57, 59, 61, 63, 65, 67, 69, 71, 73, 75, 77, 79, 81, 83, 85, 87, 89, 91, 93, 95, 97, 99]\n"
     ]
    }
   ],
   "source": [
    "even_num = [x for x in range(2,102,2)] # Note the start and end numbers for even numbers, start is included, end is NOT\n",
    "odd_num = [x for x in range(1,100,2)]\n",
    "print(even_num)\n",
    "print(odd_num)"
   ]
  },
  {
   "cell_type": "markdown",
   "id": "d8aa0204-807c-48e8-86ec-a071653f125d",
   "metadata": {},
   "source": [
    "Now let's say I want create a list of first 20 numbers by combining parts of even and odd numbers.  Let's create two slices of data for even and odd numbers upto 20"
   ]
  },
  {
   "cell_type": "code",
   "execution_count": 46,
   "id": "76b69ea0-89aa-489d-a3ef-ddd69bd81975",
   "metadata": {},
   "outputs": [
    {
     "name": "stdout",
     "output_type": "stream",
     "text": [
      "[2, 4, 6, 8, 10, 12, 14, 16, 18, 20]\n",
      "[1, 3, 5, 7, 9, 11, 13, 15, 17, 19]\n"
     ]
    }
   ],
   "source": [
    "slice_even = even_num[:10] # can also be written as even_num[0:10}\n",
    "slice_odd = odd_num[:10] # can also be written as odd_num[0:10}\n",
    "print(slice_even)\n",
    "print(slice_odd)"
   ]
  },
  {
   "cell_type": "code",
   "execution_count": 48,
   "id": "9cd85bf0-d46f-45bc-813f-5080fde55945",
   "metadata": {},
   "outputs": [
    {
     "name": "stdout",
     "output_type": "stream",
     "text": [
      "[2, 4, 6, 8, 10, 12, 14, 16, 18, 20, 1, 3, 5, 7, 9, 11, 13, 15, 17, 19]\n"
     ]
    }
   ],
   "source": [
    "combined_slice = (slice_even+slice_odd)\n",
    "print(combined_slice)"
   ]
  },
  {
   "cell_type": "code",
   "execution_count": 49,
   "id": "21c9cab3-97df-4f95-891f-82e19d350e29",
   "metadata": {},
   "outputs": [
    {
     "name": "stdout",
     "output_type": "stream",
     "text": [
      "[1, 2, 3, 4, 5, 6, 7, 8, 9, 10, 11, 12, 13, 14, 15, 16, 17, 18, 19, 20]\n"
     ]
    }
   ],
   "source": [
    "combined_slice.sort()\n",
    "print(combined_slice)"
   ]
  },
  {
   "cell_type": "markdown",
   "id": "4d0c104b-8c22-46ed-bb2e-a3e060b70f3c",
   "metadata": {},
   "source": [
    "Using slicing to get our original list of square of integers up to 10 back to what it was :)"
   ]
  },
  {
   "cell_type": "code",
   "execution_count": 51,
   "id": "eeba7036-a0a8-41bf-ba1a-2808a3b8003e",
   "metadata": {},
   "outputs": [
    {
     "name": "stdout",
     "output_type": "stream",
     "text": [
      "[1, 4, 9, 16, 25, 36, 49, 64, 81, 100]\n"
     ]
    }
   ],
   "source": [
    "list_of_squares_of_integers_upto_10 = list_of_squares_of_integers_upto_10[:10]\n",
    "print(list_of_squares_of_integers_upto_10)"
   ]
  },
  {
   "cell_type": "code",
   "execution_count": null,
   "id": "cee27435-d994-461b-ab0f-56fb03d539ec",
   "metadata": {},
   "outputs": [],
   "source": [
    "Now we will use list comprehension to get a list of square root of these numbers:"
   ]
  },
  {
   "cell_type": "code",
   "execution_count": 52,
   "id": "3546209e-ad59-4d54-adc5-2513613cb770",
   "metadata": {},
   "outputs": [
    {
     "name": "stdout",
     "output_type": "stream",
     "text": [
      "[1.0, 2.0, 3.0, 4.0, 5.0, 6.0, 7.0, 8.0, 9.0, 10.0]\n"
     ]
    }
   ],
   "source": [
    "list_square_root = [x ** 0.5 for x in list_of_squares_of_integers_upto_10] # Any variable X ** Y means X to the power of Y, \n",
    "print(list_square_root)"
   ]
  },
  {
   "cell_type": "markdown",
   "id": "4449818e-a138-4fa2-ba92-32b2487bbea2",
   "metadata": {},
   "source": [
    "Searching for any element in list:"
   ]
  },
  {
   "cell_type": "code",
   "execution_count": 53,
   "id": "4e52e397-dc5a-453f-9981-9ef76a1c1e77",
   "metadata": {},
   "outputs": [
    {
     "name": "stdout",
     "output_type": "stream",
     "text": [
      "True\n",
      "False\n",
      "True\n"
     ]
    }
   ],
   "source": [
    "print(2.0 in list_square_root)\n",
    "print(11.0 in list_square_root)\n",
    "print(2 in list_square_root)"
   ]
  },
  {
   "cell_type": "markdown",
   "id": "7437dc34-2c7b-4f61-90b1-66bdc854ebc2",
   "metadata": {},
   "source": [
    "Comparing two list:"
   ]
  },
  {
   "cell_type": "code",
   "execution_count": 60,
   "id": "24828201-bf3d-4dac-872a-d6b3e284e53a",
   "metadata": {},
   "outputs": [
    {
     "name": "stdout",
     "output_type": "stream",
     "text": [
      "[1, 2, 3, 4, 5, 6, 7, 8, 9]\n",
      "['a', 'b', 'c', 'd', 'e', 'f', 'g', 'h', 'i', 'j', 'k', 'l', 'm', 'n', 'o', 'p', 'q', 'r', 's', 't', 'u', 'v', 'w', 'x', 'y', 'z']\n",
      "False\n",
      "True\n",
      "False\n"
     ]
    }
   ],
   "source": [
    "lst_1 = [x for x in range(1,10)]\n",
    "lst_2 = [chr(y) for y in range (ord('a'),ord('z')+1)]\n",
    "print(lst_1)\n",
    "print(lst_2)\n",
    "lst_3 = lst_1\n",
    "lst_4 = lst_1[:]\n",
    "print (lst_1 is lst_2)\n",
    "print (lst_1 is lst_3)\n",
    "print (lst_1 is lst_4)"
   ]
  },
  {
   "cell_type": "code",
   "execution_count": null,
   "id": "62d35170-7a35-49b9-b4d7-f7e9b4bb5f9a",
   "metadata": {},
   "outputs": [],
   "source": []
  }
 ],
 "metadata": {
  "kernelspec": {
   "display_name": "Saumitra-Python",
   "language": "python",
   "name": "saumitra-python"
  },
  "language_info": {
   "codemirror_mode": {
    "name": "ipython",
    "version": 3
   },
   "file_extension": ".py",
   "mimetype": "text/x-python",
   "name": "python",
   "nbconvert_exporter": "python",
   "pygments_lexer": "ipython3",
   "version": "3.7.16"
  }
 },
 "nbformat": 4,
 "nbformat_minor": 5
}
