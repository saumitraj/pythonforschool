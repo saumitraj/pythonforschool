{
 "cells": [
  {
   "cell_type": "markdown",
   "id": "e80e6e88-9ba4-4d9d-ab28-a8ad898ee222",
   "metadata": {},
   "source": [
    "1. Create a list of numbers from 1 to 10\n",
    "2. Split the list into odd numbers(list_odd) and even numbers (list_even)\n",
    "3. Square the numbers in both the lists\n",
    "4. Combine the lists\n",
    "5. Print the lists in shorted order"
   ]
  },
  {
   "cell_type": "markdown",
   "id": "ea8830e4-cc21-411c-b792-e9cb71e93bbc",
   "metadata": {},
   "source": [
    "You have a list of Greek Alphabets as given below. Use list comprehension to make it into an upper case. Hint: Using the method upper"
   ]
  },
  {
   "cell_type": "code",
   "execution_count": null,
   "id": "d726ba22-e9ef-4d0f-b070-e55e0700f0ea",
   "metadata": {},
   "outputs": [],
   "source": [
    "list_greek_alphabets = ['alpha','beta','gamma','delta','epislon','zeta','eta','theta','iota','kappa','lambda','mu','nu','xi','omicron','pi','rho','sigma','tau','upsiolon','phi','chi','psi','omega']"
   ]
  },
  {
   "cell_type": "code",
   "execution_count": 8,
   "id": "5e6d5670-2dfd-4732-9d19-f275b6b43407",
   "metadata": {},
   "outputs": [
    {
     "name": "stdout",
     "output_type": "stream",
     "text": [
      "JPP\n"
     ]
    }
   ],
   "source": [
    "print('jpp'.upper())"
   ]
  },
  {
   "cell_type": "markdown",
   "id": "4ed32b16-4417-4f9d-a567-232499edbad6",
   "metadata": {},
   "source": [
    "Remove duplicate elements from a list using list comprehension"
   ]
  },
  {
   "cell_type": "code",
   "execution_count": null,
   "id": "ef11878a-8e25-4af8-b5bf-a763e1d76cdd",
   "metadata": {},
   "outputs": [],
   "source": [
    "list_with_duplicates = ['H','E','L','L','O','W','O','R','L','D']"
   ]
  },
  {
   "cell_type": "markdown",
   "id": "d191abaa-b099-4e5f-b216-9b4dd0773844",
   "metadata": {},
   "source": [
    "*** H O M E  W O R K ***\n",
    "\n",
    "1. Remove duplicate values from list where the occurance is greater than n times(for example 2) \n",
    "output_list = [item for item, count in Counter(input_list).items() if count > K]\n",
    "2. Find elements in list which are occurring more than twice in sequence [1,1,1,2,3,4,5,5,5] so output is [1,5]\n",
    "3. Generate all possible but unique combinations of elements of two lists. [1,2,3] and [“a”,”b”,”c”] output is [(1,a), (1,b) …….(2,c)]"
   ]
  }
 ],
 "metadata": {
  "kernelspec": {
   "display_name": "Python 3 (ipykernel)",
   "language": "python",
   "name": "python3"
  },
  "language_info": {
   "codemirror_mode": {
    "name": "ipython",
    "version": 3
   },
   "file_extension": ".py",
   "mimetype": "text/x-python",
   "name": "python",
   "nbconvert_exporter": "python",
   "pygments_lexer": "ipython3",
   "version": "3.10.12"
  }
 },
 "nbformat": 4,
 "nbformat_minor": 5
}
