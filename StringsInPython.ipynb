{
 "cells": [
  {
   "cell_type": "markdown",
   "id": "9b59401e-f9ff-4470-bd2a-0c753238eee9",
   "metadata": {},
   "source": [
    "Strings in python are internally marked as a class of type \"str\"; Python *does not* differentiate between a single character and a bunch of characters! Single, Double and even Triple quotes are used!"
   ]
  },
  {
   "cell_type": "code",
   "execution_count": 1,
   "id": "5c28c4bf-f636-4c02-9b84-6fb56f4da80b",
   "metadata": {},
   "outputs": [],
   "source": [
    "city = 'Pune' # Single Quote"
   ]
  },
  {
   "cell_type": "code",
   "execution_count": 2,
   "id": "78abd874-3a33-439f-a197-8b0eae7ea2f1",
   "metadata": {},
   "outputs": [],
   "source": [
    "state = \"Maharashtra\" # Double Quote"
   ]
  },
  {
   "cell_type": "code",
   "execution_count": 3,
   "id": "db8d5715-2c57-4ff2-bc26-82cbe99bb340",
   "metadata": {},
   "outputs": [],
   "source": [
    "sentence = \"India's capital is Delhi\" # Note the usage of Double quotes to have a single quote *within* the String, enclosed with Double quotes"
   ]
  },
  {
   "cell_type": "code",
   "execution_count": 4,
   "id": "a66e69ab-9715-42c4-bda9-e9f19b0edb93",
   "metadata": {},
   "outputs": [],
   "source": [
    "another_sentence = 'A \"fantastic\" performance' # Note the usage of Double quote within the string, this time enclosed with Single Quotes"
   ]
  },
  {
   "cell_type": "code",
   "execution_count": 5,
   "id": "b75a158c-2783-44a8-af67-d7739202a651",
   "metadata": {},
   "outputs": [],
   "source": [
    "yet_another_sentence = 'I borrowed my friend\\'s book' # Note the usage of \\ as an \"escape sequence\", not very convenient"
   ]
  },
  {
   "cell_type": "code",
   "execution_count": 6,
   "id": "421d5e0b-dd3a-4b85-96ef-3a3532735c26",
   "metadata": {},
   "outputs": [],
   "source": [
    "name_of_a_fine_book = '''The \"Hitchhiker's\" guide to the Galaxy''' # Note the super convinient usage of triple quotes, you don't need to write any escape sequences!"
   ]
  },
  {
   "cell_type": "markdown",
   "id": "cc29b2da-5d58-474d-a26d-aac70a298a83",
   "metadata": {},
   "source": [
    "Python string support slicing just like lists!"
   ]
  },
  {
   "cell_type": "code",
   "execution_count": 7,
   "id": "b9b27f07-4978-45ba-8989-d1f15c97b2d5",
   "metadata": {},
   "outputs": [],
   "source": [
    "maha = state[:4]\n",
    "rashtra = state [4:]"
   ]
  },
  {
   "cell_type": "code",
   "execution_count": 8,
   "id": "1da01a8a-708e-481f-bb23-6c902e8a03de",
   "metadata": {},
   "outputs": [
    {
     "name": "stdout",
     "output_type": "stream",
     "text": [
      "Maha\n",
      "rashtra\n"
     ]
    }
   ],
   "source": [
    "print(maha)\n",
    "print(rashtra)"
   ]
  },
  {
   "cell_type": "markdown",
   "id": "12499d74-d400-4c45-bdda-695e41c1a64c",
   "metadata": {},
   "source": [
    "Are strings same as list? Whilst slicing, indexing seems to be the same, there is a fundamental difference: Strings are immutable i.e. cannot be changed! Let us look at it:"
   ]
  },
  {
   "cell_type": "code",
   "execution_count": 16,
   "id": "d48fa563-6421-462d-bd15-e9aa40da5893",
   "metadata": {},
   "outputs": [],
   "source": [
    "my_list = ['H','E','L','L','0']\n",
    "my_string = 'HELL0'"
   ]
  },
  {
   "cell_type": "code",
   "execution_count": 17,
   "id": "37528b2f-0385-4017-b96b-7977544b41d9",
   "metadata": {},
   "outputs": [
    {
     "name": "stdout",
     "output_type": "stream",
     "text": [
      "['H', 'E', 'L', 'L', '0']\n",
      "HELL0\n"
     ]
    }
   ],
   "source": [
    "print(my_list)\n",
    "print(my_string)"
   ]
  },
  {
   "cell_type": "code",
   "execution_count": 18,
   "id": "4f9912a9-5815-413c-9a53-21cd04f513ba",
   "metadata": {},
   "outputs": [],
   "source": [
    "my_list[-1] = 'O'"
   ]
  },
  {
   "cell_type": "code",
   "execution_count": 19,
   "id": "fc353719-7f3f-4c27-945c-d9093d15065c",
   "metadata": {},
   "outputs": [
    {
     "name": "stdout",
     "output_type": "stream",
     "text": [
      "['H', 'E', 'L', 'L', 'O']\n"
     ]
    }
   ],
   "source": [
    "print(my_list)"
   ]
  },
  {
   "cell_type": "code",
   "execution_count": 20,
   "id": "fc306f54-229e-4d5a-a8b8-073e6caa413a",
   "metadata": {},
   "outputs": [
    {
     "ename": "TypeError",
     "evalue": "'str' object does not support item assignment",
     "output_type": "error",
     "traceback": [
      "\u001b[0;31m---------------------------------------------------------------------------\u001b[0m",
      "\u001b[0;31mTypeError\u001b[0m                                 Traceback (most recent call last)",
      "\u001b[0;32m/tmp/ipykernel_1317/784352432.py\u001b[0m in \u001b[0;36m<module>\u001b[0;34m\u001b[0m\n\u001b[0;32m----> 1\u001b[0;31m \u001b[0mmy_string\u001b[0m\u001b[0;34m[\u001b[0m\u001b[0;34m-\u001b[0m\u001b[0;36m1\u001b[0m\u001b[0;34m]\u001b[0m \u001b[0;34m=\u001b[0m \u001b[0;34m'O'\u001b[0m\u001b[0;34m\u001b[0m\u001b[0;34m\u001b[0m\u001b[0m\n\u001b[0m",
      "\u001b[0;31mTypeError\u001b[0m: 'str' object does not support item assignment"
     ]
    }
   ],
   "source": [
    "my_string[-1] = 'O'"
   ]
  },
  {
   "cell_type": "markdown",
   "id": "6040e9d5-7b0e-4a24-97a5-12c41b0f84ff",
   "metadata": {},
   "source": [
    "Note that slicing still works as it creates a NEW String!"
   ]
  },
  {
   "cell_type": "code",
   "execution_count": 21,
   "id": "db470979-51df-4b7c-b555-7459f873a929",
   "metadata": {},
   "outputs": [],
   "source": [
    "my_new_string = my_string[:5]"
   ]
  },
  {
   "cell_type": "code",
   "execution_count": null,
   "id": "07f8c34b-ba00-4f2c-bec0-40ef1b919d32",
   "metadata": {},
   "outputs": [],
   "source": [
    "print(my_new_string)"
   ]
  }
 ],
 "metadata": {
  "kernelspec": {
   "display_name": "Saumitra-Python",
   "language": "python",
   "name": "saumitra-python"
  },
  "language_info": {
   "codemirror_mode": {
    "name": "ipython",
    "version": 3
   },
   "file_extension": ".py",
   "mimetype": "text/x-python",
   "name": "python",
   "nbconvert_exporter": "python",
   "pygments_lexer": "ipython3",
   "version": "3.7.16"
  }
 },
 "nbformat": 4,
 "nbformat_minor": 5
}
